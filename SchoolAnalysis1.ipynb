{
 "cells": [
  {
   "cell_type": "markdown",
   "metadata": {},
   "source": [
    "The dataset is from data.utah.gov, and contains the grades of schools around Utah in terms of standardized tests. This script cleans the data (removes NaNs from columns that will be used for analysis in the future), and creates new columns that have percentages of points earned in different categories for more simple comparisons."
   ]
  },
  {
   "cell_type": "code",
   "execution_count": 13,
   "metadata": {
    "collapsed": false
   },
   "outputs": [
    {
     "name": "stdout",
     "output_type": "stream",
     "text": [
      "                                        District  \\\n",
      "0  ACADEMY FOR MATH ENGINEERING & SCIENCE (AMES)   \n",
      "1                                ALIANZA ACADEMY   \n",
      "2                                ALPINE DISTRICT   \n",
      "3                                ALPINE DISTRICT   \n",
      "4                                ALPINE DISTRICT   \n",
      "\n",
      "                                          School                 School Type  \\\n",
      "0  ACADEMY FOR MATH ENGINEERING & SCIENCE (AMES)          High School Report   \n",
      "1                                ALIANZA ACADEMY  Elem/Middle/Jr High School   \n",
      "2                           ALPINE ONLINE SCHOOL  Elem/Middle/Jr High School   \n",
      "3                                  ALPINE SCHOOL  Elem/Middle/Jr High School   \n",
      "4                             AMERICAN FORK HIGH          High School Report   \n",
      "\n",
      "   Overall Points  Overall Possible Grade All Students Participation  \\\n",
      "0             566               900     B                       100%   \n",
      "1             145               600     F                     98.53%   \n",
      "2             277               600     C                     98.71%   \n",
      "3             344               600     B                      99.7%   \n",
      "4             534               900     B                     96.99%   \n",
      "\n",
      "  Below Proficient Participation  Growth ELA All Students  \\\n",
      "0                           100%                     36.0   \n",
      "1                         99.54%                     14.0   \n",
      "2                         98.86%                     21.0   \n",
      "3                         99.19%                     33.0   \n",
      "4                         96.86%                     33.0   \n",
      "\n",
      "   Growth ELA All Students Possible                  ...                    \\\n",
      "0                              50.0                  ...                     \n",
      "1                              50.0                  ...                     \n",
      "2                              50.0                  ...                     \n",
      "3                              50.0                  ...                     \n",
      "4                              50.0                  ...                     \n",
      "\n",
      "   ELA Proficient  ELA Proficient Possible  Math Proficient  \\\n",
      "0            57.0                    100.0             43.0   \n",
      "1            20.0                    100.0             14.0   \n",
      "2            39.0                    100.0             30.0   \n",
      "3            49.0                    100.0             45.0   \n",
      "4            52.0                    100.0             37.0   \n",
      "\n",
      "   Math Proficient Possible  Science Proficient  Science Proficient Possible  \\\n",
      "0                     100.0                58.0                        100.0   \n",
      "1                     100.0                18.0                        100.0   \n",
      "2                     100.0                36.0                        100.0   \n",
      "3                     100.0                55.0                        100.0   \n",
      "4                     100.0                60.0                        100.0   \n",
      "\n",
      "   College Career Readiness GRAD  College Career Readiness GRAD Possible  \\\n",
      "0                          146.0                                   150.0   \n",
      "1                            NaN                                     NaN   \n",
      "2                            NaN                                     NaN   \n",
      "3                            NaN                                     NaN   \n",
      "4                          134.0                                   150.0   \n",
      "\n",
      "   Number of Students Meeting All Four CCR Benchmarks ACT  \\\n",
      "0                                               57.0        \n",
      "1                                                NaN        \n",
      "2                                                NaN        \n",
      "3                                                NaN        \n",
      "4                                               60.0        \n",
      "\n",
      "   College Career Readiness ACT Possible  \n",
      "0                                  150.0  \n",
      "1                                    NaN  \n",
      "2                                    NaN  \n",
      "3                                    NaN  \n",
      "4                                  150.0  \n",
      "\n",
      "[5 rows x 30 columns]\n"
     ]
    }
   ],
   "source": [
    "import pandas as pd\n",
    "\n",
    "school_unfiltered = pd.read_csv(\"grades_2014.csv\")\n",
    "print(school_unfiltered.head())\n"
   ]
  },
  {
   "cell_type": "code",
   "execution_count": 14,
   "metadata": {
    "collapsed": false
   },
   "outputs": [],
   "source": [
    "# Here we will filter out anything that isn't right\n",
    "# TODO: Make sure we filter all NaNs in all of the columns that matter.\n",
    "school = school_unfiltered[school_unfiltered['Overall Possible'] != 0]\n",
    "school = school_unfiltered[school_unfiltered['Growth ELA All Students'] != 0]\n",
    "school.reset_index(inplace=True)"
   ]
  },
  {
   "cell_type": "code",
   "execution_count": 15,
   "metadata": {
    "collapsed": false
   },
   "outputs": [],
   "source": [
    "# Here we create percentages of each column pair that has has possible points\n",
    "school = school.assign(overall_percent = (school['Overall Points'].div(school['Overall Possible'])*100))\n",
    "school = school.assign(growth_percent = (school['Growth ELA All Students']/school['Growth ELA All Students Possible'])*100)\n",
    "school = school.assign(growth_math_percent = school['Growth Math All Students'].div(school['Growth Math All Students Possible'])*100)\n",
    "school = school.assign(growth_science_percent = school['Growth Science All Students'].div(school['Growth Science All Students Possible'])*100)\n",
    "school = school.assign(growth_below_percent = school['Growth ELA Below Proficient'].div(school['Growth ELA Below Proficient Possible'])*100)\n",
    "school = school.assign(growth_math_below_percent = school['Growth Math Below Proficient'].div(school['Growth Math Below Proficient Possible'])*100)\n",
    "school = school.assign(growth_science_below_percent = school['Growth Science Below Proficient'].div(school['Growth Science Below Proficient Possible'])*100)\n",
    "school = school.assign(ela_proficient_percent = school['ELA Proficient'].div(school['ELA Proficient Possible'])*100)\n",
    "school = school.assign(math_proficient_percent = school['Math Proficient'].div(school['Math Proficient Possible'])*100)\n",
    "school = school.assign(science_proficient_percent = school['Science Proficient'].div(school['Science Proficient Possible'])*100)"
   ]
  },
  {
   "cell_type": "code",
   "execution_count": 16,
   "metadata": {
    "collapsed": false
   },
   "outputs": [
    {
     "name": "stdout",
     "output_type": "stream",
     "text": [
      "   overall_percent  growth_percent  growth_math_percent  \\\n",
      "0        62.888889            72.0                 66.0   \n",
      "1        24.166667            28.0                 32.0   \n",
      "2        46.166667            42.0                 62.0   \n",
      "3        57.333333            66.0                 70.0   \n",
      "4        59.333333            66.0                 72.0   \n",
      "\n",
      "   growth_science_percent  growth_below_percent  growth_math_below_percent  \\\n",
      "0                    74.0                  56.0                       62.0   \n",
      "1                    36.0                  26.0                       34.0   \n",
      "2                    58.0                  46.0                       70.0   \n",
      "3                    50.0                  70.0                       70.0   \n",
      "4                    74.0                  60.0                       50.0   \n",
      "\n",
      "   growth_science_below_percent  \n",
      "0                          80.0  \n",
      "1                          30.0  \n",
      "2                          66.0  \n",
      "3                          64.0  \n",
      "4                          60.0  \n"
     ]
    }
   ],
   "source": [
    "percent_columns = ['overall_percent', 'growth_percent', 'growth_math_percent', 'growth_science_percent', 'growth_below_percent', 'growth_math_below_percent','growth_science_below_percent']\n",
    "print(school[percent_columns].head())"
   ]
  },
  {
   "cell_type": "code",
   "execution_count": 17,
   "metadata": {
    "collapsed": false
   },
   "outputs": [
    {
     "name": "stdout",
     "output_type": "stream",
     "text": [
      "overall_percent \n",
      "mean:  51.712984346933524 \tmedian:  52.33333333333333 \tmax:  90.6666666667 \tmin:  19.5 \tvariance:  101.45132396855512\n",
      "growth_percent \n",
      "mean:  59.907091391733026 \tmedian:  62.0 \tmax:  92.0 \tmin:  14.0 \tvariance:  132.6728312038629\n",
      "growth_math_percent \n",
      "mean:  60.24914675767918 \tmedian:  60.0 \tmax:  92.0 \tmin:  0.0 \tvariance:  140.95190227038924\n",
      "growth_science_percent \n",
      "mean:  59.745775729646695 \tmedian:  60.0 \tmax:  90.0 \tmin:  20.0 \tvariance:  130.87929137499418\n",
      "growth_below_percent \n",
      "mean:  60.83892339544512 \tmedian:  62.0 \tmax:  100.0 \tmin:  16.0 \tvariance:  181.71268982897786\n",
      "growth_math_below_percent \n",
      "mean:  60.96877637130798 \tmedian:  62.0 \tmax:  100.0 \tmin:  10.0 \tvariance:  162.7453975995538\n",
      "growth_science_below_percent \n",
      "mean:  60.47654628476547 \tmedian:  60.0 \tmax:  100.0 \tmin:  14.0 \tvariance:  160.01978035401314\n",
      "Rows:  897\n"
     ]
    }
   ],
   "source": [
    "means = [school[x].mean() for x in percent_columns]\n",
    "maxes = [school[x].max() for x in percent_columns]\n",
    "mins = [school[x].min() for x in percent_columns]\n",
    "medians = [school[x].median() for x in percent_columns]\n",
    "variances = [school[x].var(axis=0) for x in percent_columns]\n",
    "\n",
    "mean_dict = {}\n",
    "for i in range(len(means)):\n",
    "    mean_dict[percent_columns[i]] = means[i]\n",
    "    print(percent_columns[i], '\\nmean: ', means[i], '\\tmedian: ', medians[i], '\\tmax: ', maxes[i], '\\tmin: ', mins[i], '\\tvariance: ', variances[i])\n",
    "print(\"Rows: \", school.shape[0])"
   ]
  },
  {
   "cell_type": "markdown",
   "metadata": {},
   "source": [
    "Since we have made some changes to the csv, we can export it so that we only have to upload it in future scripts without cleaning it again (and again)."
   ]
  },
  {
   "cell_type": "code",
   "execution_count": 18,
   "metadata": {
    "collapsed": false
   },
   "outputs": [],
   "source": [
    "school.to_csv('filtered_data.csv')"
   ]
  }
 ],
 "metadata": {
  "anaconda-cloud": {},
  "kernelspec": {
   "display_name": "Python [conda root]",
   "language": "python",
   "name": "conda-root-py"
  },
  "language_info": {
   "codemirror_mode": {
    "name": "ipython",
    "version": 3
   },
   "file_extension": ".py",
   "mimetype": "text/x-python",
   "name": "python",
   "nbconvert_exporter": "python",
   "pygments_lexer": "ipython3",
   "version": "3.5.2"
  }
 },
 "nbformat": 4,
 "nbformat_minor": 1
}
